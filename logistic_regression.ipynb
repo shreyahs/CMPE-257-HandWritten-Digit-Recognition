{
 "cells": [
  {
   "cell_type": "code",
   "execution_count": 3,
   "metadata": {},
   "outputs": [
    {
     "data": {
      "image/png": "[encoded data removed]",
      "text/plain": [
       "<Figure size 432x288 with 2 Axes>"
      ]
     },
     "metadata": {
      "needs_background": "light"
     },
     "output_type": "display_data"
    }
   ],
   "source": [
    "import timeit\n",
    "import numpy as np\n",
    "import csv\n",
    "import matplotlib.pyplot as plt\n",
    "import pandas as pd\n",
    "from sklearn import preprocessing\n",
    "from scipy.ndimage import interpolation\n",
    "from mpl_toolkits.axes_grid1 import AxesGrid\n",
    "from sklearn.decomposition import PCA\n",
    "\n",
    "# Functions to deskew the images\n",
    "def moments(image):\n",
    "    c0,c1 = np.mgrid[:image.shape[0],:image.shape[1]] # A trick in numPy to create a mesh grid\n",
    "    totalImage = np.sum(image) #sum of pixels\n",
    "    m0 = np.sum(c0*image)/totalImage #mu_x\n",
    "    m1 = np.sum(c1*image)/totalImage #mu_y\n",
    "    m00 = np.sum((c0-m0)**2*image)/totalImage #var(x)\n",
    "    m11 = np.sum((c1-m1)**2*image)/totalImage #var(y)\n",
    "    m01 = np.sum((c0-m0)*(c1-m1)*image)/totalImage #covariance(x,y)\n",
    "    mu_vector = np.array([m0,m1]) # Notice that these are \\mu_x, \\mu_y respectively\n",
    "    covariance_matrix = np.array([[m00,m01],[m01,m11]]) # Do you see a similarity between the covariance matrix\n",
    "    return mu_vector, covariance_matrix\n",
    "\n",
    "\n",
    "def deskew(image):\n",
    "    c,v = moments(image)\n",
    "    alpha = v[0,1]/v[0,0]\n",
    "    affine = np.array([[1,0],[alpha,1]])\n",
    "    ocenter = np.array(image.shape)/2.0\n",
    "    offset = c-np.dot(affine,ocenter)\n",
    "    return interpolation.affine_transform(image,affine,offset=offset)\n",
    "\n",
    "def deskewAll(X):\n",
    "    currents = []\n",
    "    for i in range(len(X)):\n",
    "        currents.append(deskew(X[i].reshape(28,28)).flatten())\n",
    "    return np.array(currents)\n",
    "\n",
    "# Start the time to capture ru time\n",
    "start = timeit.default_timer()\n",
    "\n",
    "# Read the training data\n",
    "data = np.genfromtxt(\"mnist_train.txt\", delimiter=',')\n",
    "label = data[:,0]\n",
    "pixel = data[:,1:]\n",
    "\n",
    "# Deskew the  training data data \n",
    "Deskewed_training_data =  deskewAll(pixel)\n",
    "\n",
    "# Center the training data\n",
    "center = preprocessing.StandardScaler(with_std=False).fit(Deskewed_training_data)\n",
    "train_X = center.transform(Deskewed_training_data)\n",
    "\n",
    "# Applying PCA to train data\n",
    "pca = PCA(0.95)\n",
    "pca = pca.fit(train_X)\n",
    "reduced_data = pca.fit_transform(train_X) # This has reduced the data without loosing 95 % variance of the data.\n",
    "\n",
    "approximation = pca.inverse_transform(reduced_data)\n",
    "\n",
    "# Original Image\n",
    "plt.subplot(1, 2, 1);\n",
    "plt.imshow(train_X[0].reshape(28,28),\n",
    "              cmap = plt.cm.gray,interpolation='nearest')\n",
    "plt.xlabel('784 components', fontsize = 10)\n",
    "plt.title('Original Image', fontsize = 10);\n",
    "\n",
    "# 115 principal components\n",
    "plt.subplot(1, 2, 2);\n",
    "plt.imshow(approximation[0].reshape(28, 28),\n",
    "              cmap = plt.cm.gray, interpolation='nearest');\n",
    "plt.xlabel('115 components', fontsize = 10)\n",
    "plt.title('95% of Explained Variance', fontsize = 10);\n",
    "\n",
    "\n",
    "# Read the test data\n",
    "data_2 = np.genfromtxt(\"mnist_test.txt\", delimiter=',')\n",
    "\n",
    "# Deskweing test data\n",
    "Deskewed_test_data = deskewAll(data_2[:,1:])\n",
    "\n",
    "# Centering test data\n",
    "center_test = preprocessing.StandardScaler(with_std=False).fit(Deskewed_test_data)\n",
    "test_X = center.transform(Deskewed_test_data)\n",
    "\n",
    "# PCA tranformation\n",
    "reduced_test_data = pca.transform(test_X)"
   ]
  },
  {
   "cell_type": "code",
   "execution_count": 4,
   "metadata": {},
   "outputs": [
    {
     "name": "stdout",
     "output_type": "stream",
     "text": [
      "[[ 956    0    0    1    0    6    9    1    3    4]\n",
      " [   0 1122    5    2    0    1    2    1    2    0]\n",
      " [   7    1  985    9    5    2    2    3   17    1]\n",
      " [   0    1    6  974    0   12    0    6    8    3]\n",
      " [   1    3    3    1  946    2    5    1    3   17]\n",
      " [   3    0    0   10    2  863    4    0    8    2]\n",
      " [   8    4    5    1    7    6  923    0    3    1]\n",
      " [   1    1   12    1    4    0    0  993    1   15]\n",
      " [   6    1    6   10    5    8    1    3  927    7]\n",
      " [   2    3    2    8   22    4    1   16    2  949]]\n",
      "Accuracy: 0.9638\n",
      "Error Rate: 0.03620000000000001\n",
      "Time: 2735.4989767074585 seconds\n"
     ]
    }
   ],
   "source": [
    "final_error_rate =[]\n",
    "\n",
    "from sklearn.linear_model import LogisticRegression\n",
    "from sklearn.multiclass import OneVsOneClassifier\n",
    "from sklearn.metrics import confusion_matrix\n",
    "from sklearn.metrics import accuracy_score\n",
    "import numpy as np\n",
    "import time \n",
    "start_time = time.time()\n",
    "\n",
    "\n",
    "\n",
    "tdata = np.genfromtxt(\"mnist_test.txt\", delimiter=',')\n",
    "test_exp1 = tdata[:,0]\n",
    "\n",
    "cl_type1=OneVsOneClassifier(LogisticRegression(solver='saga',max_iter = 10000)).fit(reduced_data,label)\n",
    "\n",
    "\n",
    "\n",
    "res1=cl_type1.predict(reduced_test_data)\n",
    "\n",
    "acc_type1=accuracy_score(test_exp1,res1)\n",
    "err_type1=1-acc_type1\n",
    "final_error_rate.append(err_type1)\n",
    "mat_c1 =confusion_matrix(test_exp1,res1)\n",
    "\n",
    "print(mat_c1)\n",
    "\n",
    "print(\"Accuracy:\",acc_type1)\n",
    "print(\"Error Rate:\",err_type1)\n",
    "print(\"Time: %s seconds\" %(time.time()-start_time))\n",
    "\n"
   ]
  },
  {
   "cell_type": "code",
   "execution_count": 5,
   "metadata": {},
   "outputs": [
    {
     "name": "stderr",
     "output_type": "stream",
     "text": [
      "C:\\Users\\shrey\\Anaconda3\\lib\\site-packages\\sklearn\\linear_model\\logistic.py:433: FutureWarning: Default solver will be changed to 'lbfgs' in 0.22. Specify a solver to silence this warning.\n",
      "  FutureWarning)\n"
     ]
    },
    {
     "name": "stdout",
     "output_type": "stream",
     "text": [
      "[[ 960    0    0    2    1    6    7    1    1    2]\n",
      " [   0 1122    2    1    0    1    4    0    4    1]\n",
      " [   7    1  970    7    5    1    5    7   29    0]\n",
      " [   1    1   10  961    1   14    0    7   12    3]\n",
      " [   2    1    4    2  935    2    4    3    8   21]\n",
      " [   5    0    1    6    6  845   10    1   14    4]\n",
      " [   9    2    5    1    8   13  916    0    3    1]\n",
      " [   2    2   15    0    7    0    0  972    6   24]\n",
      " [   9    1   10    8    7   13    3    2  913    8]\n",
      " [  11    4    3   14   29    4    0   18    7  919]]\n",
      "accuracy: 0.9513\n",
      "error rate: 0.048699999999999966\n",
      "time: 169.5782494544983 seconds\n"
     ]
    }
   ],
   "source": [
    "from sklearn.linear_model import LogisticRegression\n",
    "from sklearn.metrics import confusion_matrix\n",
    "from sklearn.metrics import accuracy_score\n",
    "import numpy as np\n",
    "import time \n",
    "start_time = time.time()\n",
    "\n",
    "\n",
    "tdata = np.genfromtxt(\"mnist_test.txt\", delimiter=',')\n",
    "test_exp2 = tdata[:,0]\n",
    "\n",
    "cl_type2=LogisticRegression(penalty='l1',multi_class='ovr').fit(reduced_data,label)\n",
    "\n",
    "\n",
    "\n",
    "res2=cl_type2.predict(reduced_test_data)\n",
    "\n",
    "acc_type2=accuracy_score(test_exp2,res2)\n",
    "err_type2=1-acc_type2\n",
    "final_error_rate.append(err_type2)\n",
    "\n",
    "\n",
    "\n",
    "mat_c2 =confusion_matrix(test_exp2,res2)\n",
    "\n",
    "print(mat_c2)\n",
    "\n",
    "print(\"accuracy:\",acc_type2)\n",
    "print(\"error rate:\",err_type2)\n",
    "print(\"time: %s seconds\" %(time.time()-start_time))\n"
   ]
  },
  {
   "cell_type": "code",
   "execution_count": 6,
   "metadata": {},
   "outputs": [
    {
     "data": {
      "image/png": "[encoded data removed]",
      "text/plain": [
       "<Figure size 432x288 with 1 Axes>"
      ]
     },
     "metadata": {
      "needs_background": "light"
     },
     "output_type": "display_data"
    }
   ],
   "source": [
    "import matplotlib.pyplot as plt\n",
    "#import matplotlib.pyplot.hist\n",
    "x=np.arange(2)\n",
    "plt.bar(x,height=final_error_rate)\n",
    "plt.xticks(x,['one vs one','one vs rest'])\n",
    "plt.show()"
   ]
  },
  {
   "cell_type": "code",
   "execution_count": 7,
   "metadata": {},
   "outputs": [
    {
     "data": {
      "image/png": "[encoded data removed]",
      "text/plain": [
       "<Figure size 432x288 with 2 Axes>"
      ]
     },
     "metadata": {
      "needs_background": "light"
     },
     "output_type": "display_data"
    }
   ],
   "source": [
    "# References:\n",
    "# 1. Image deskew: https://fsix.github.io/mnist/Deskewing.html\n",
    "\n",
    "import timeit\n",
    "import numpy as np\n",
    "import csv\n",
    "import matplotlib.pyplot as plt\n",
    "import pandas as pd\n",
    "from sklearn import preprocessing\n",
    "from scipy.ndimage import interpolation\n",
    "from mpl_toolkits.axes_grid1 import AxesGrid\n",
    "from scipy.linalg import svd\n",
    "from sklearn.manifold import TSNE\n",
    "from sklearn.decomposition import PCA\n",
    "\n",
    "# Functions to deskew the images\n",
    "def moments(image):\n",
    "    c0,c1 = np.mgrid[:image.shape[0],:image.shape[1]] # A trick in numPy to create a mesh grid\n",
    "    totalImage = np.sum(image) #sum of pixels\n",
    "    m0 = np.sum(c0*image)/totalImage #mu_x\n",
    "    m1 = np.sum(c1*image)/totalImage #mu_y\n",
    "    m00 = np.sum((c0-m0)**2*image)/totalImage #var(x)\n",
    "    m11 = np.sum((c1-m1)**2*image)/totalImage #var(y)\n",
    "    m01 = np.sum((c0-m0)*(c1-m1)*image)/totalImage #covariance(x,y)\n",
    "    mu_vector = np.array([m0,m1]) # Notice that these are \\mu_x, \\mu_y respectively\n",
    "    covariance_matrix = np.array([[m00,m01],[m01,m11]]) # Do you see a similarity between the covariance matrix\n",
    "    return mu_vector, covariance_matrix\n",
    "\n",
    "\n",
    "def deskew(image):\n",
    "    c,v = moments(image)\n",
    "    alpha = v[0,1]/v[0,0]\n",
    "    affine = np.array([[1,0],[alpha,1]])\n",
    "    ocenter = np.array(image.shape)/2.0\n",
    "    offset = c-np.dot(affine,ocenter)\n",
    "    return interpolation.affine_transform(image,affine,offset=offset)\n",
    "\n",
    "def deskewAll(X):\n",
    "    currents = []\n",
    "    for i in range(len(X)):\n",
    "        currents.append(deskew(X[i].reshape(28,28)).flatten())\n",
    "    return np.array(currents)\n",
    "\n",
    "# Start the time to capture ru time\n",
    "start = timeit.default_timer()\n",
    "\n",
    "# Read the training data\n",
    "data = np.genfromtxt(\"mnist_train.txt\", delimiter=',')\n",
    "label = data[:,0]\n",
    "pixel = data[:,1:]\n",
    "\n",
    "# Deskew the  training data data \n",
    "Deskewed_training_data =  deskewAll(pixel)\n",
    "\n",
    "# Center the training data\n",
    "center = preprocessing.StandardScaler(with_std=False).fit(Deskewed_training_data)\n",
    "train_X = center.transform(Deskewed_training_data)\n",
    "\n",
    "# Applying PCA to train data\n",
    "pca = PCA(0.85)\n",
    "pca = pca.fit(train_X)\n",
    "reduced_data = pca.fit_transform(train_X) # This has reduced the data without loosing 95 % variance of the data.\n",
    "\n",
    "approximation = pca.inverse_transform(reduced_data)\n",
    "\n",
    "# Original Image\n",
    "plt.subplot(1, 2, 1);\n",
    "plt.imshow(train_X[0].reshape(28,28),\n",
    "              cmap = plt.cm.gray,interpolation='nearest')\n",
    "plt.xlabel('784 components', fontsize = 10)\n",
    "plt.title('Original Image', fontsize = 10);\n",
    "\n",
    "# 115 principal components\n",
    "plt.subplot(1, 2, 2);\n",
    "plt.imshow(approximation[0].reshape(28, 28),\n",
    "              cmap = plt.cm.gray, interpolation='nearest');\n",
    "plt.xlabel('115 components', fontsize = 10)\n",
    "plt.title('85% of Explained Variance', fontsize = 10);\n",
    "\n",
    "\n",
    "# Read the test data\n",
    "data_2 = np.genfromtxt(\"mnist_test.txt\", delimiter=',')\n",
    "\n",
    "# Deskweing test data\n",
    "Deskewed_test_data = deskewAll(data_2[:,1:])\n",
    "\n",
    "# Centering test data\n",
    "center_test = preprocessing.StandardScaler(with_std=False).fit(Deskewed_test_data)\n",
    "test_X = center.transform(Deskewed_test_data)\n",
    "\n",
    "# PCA tranformation\n",
    "reduced_test_data = pca.transform(test_X)"
   ]
  },
  {
   "cell_type": "code",
   "execution_count": 8,
   "metadata": {},
   "outputs": [
    {
     "name": "stderr",
     "output_type": "stream",
     "text": [
      "C:\\Users\\shrey\\Anaconda3\\lib\\site-packages\\sklearn\\linear_model\\logistic.py:433: FutureWarning: Default solver will be changed to 'lbfgs' in 0.22. Specify a solver to silence this warning.\n",
      "  FutureWarning)\n",
      "C:\\Users\\shrey\\Anaconda3\\lib\\site-packages\\sklearn\\linear_model\\logistic.py:433: FutureWarning: Default solver will be changed to 'lbfgs' in 0.22. Specify a solver to silence this warning.\n",
      "  FutureWarning)\n",
      "C:\\Users\\shrey\\Anaconda3\\lib\\site-packages\\sklearn\\linear_model\\logistic.py:433: FutureWarning: Default solver will be changed to 'lbfgs' in 0.22. Specify a solver to silence this warning.\n",
      "  FutureWarning)\n",
      "C:\\Users\\shrey\\Anaconda3\\lib\\site-packages\\sklearn\\linear_model\\logistic.py:433: FutureWarning: Default solver will be changed to 'lbfgs' in 0.22. Specify a solver to silence this warning.\n",
      "  FutureWarning)\n",
      "C:\\Users\\shrey\\Anaconda3\\lib\\site-packages\\sklearn\\linear_model\\logistic.py:433: FutureWarning: Default solver will be changed to 'lbfgs' in 0.22. Specify a solver to silence this warning.\n",
      "  FutureWarning)\n",
      "C:\\Users\\shrey\\Anaconda3\\lib\\site-packages\\sklearn\\linear_model\\logistic.py:433: FutureWarning: Default solver will be changed to 'lbfgs' in 0.22. Specify a solver to silence this warning.\n",
      "  FutureWarning)\n",
      "C:\\Users\\shrey\\Anaconda3\\lib\\site-packages\\sklearn\\linear_model\\logistic.py:433: FutureWarning: Default solver will be changed to 'lbfgs' in 0.22. Specify a solver to silence this warning.\n",
      "  FutureWarning)\n",
      "C:\\Users\\shrey\\Anaconda3\\lib\\site-packages\\sklearn\\linear_model\\logistic.py:433: FutureWarning: Default solver will be changed to 'lbfgs' in 0.22. Specify a solver to silence this warning.\n",
      "  FutureWarning)\n",
      "C:\\Users\\shrey\\Anaconda3\\lib\\site-packages\\sklearn\\linear_model\\logistic.py:433: FutureWarning: Default solver will be changed to 'lbfgs' in 0.22. Specify a solver to silence this warning.\n",
      "  FutureWarning)\n",
      "C:\\Users\\shrey\\Anaconda3\\lib\\site-packages\\sklearn\\linear_model\\logistic.py:433: FutureWarning: Default solver will be changed to 'lbfgs' in 0.22. Specify a solver to silence this warning.\n",
      "  FutureWarning)\n",
      "C:\\Users\\shrey\\Anaconda3\\lib\\site-packages\\sklearn\\linear_model\\logistic.py:433: FutureWarning: Default solver will be changed to 'lbfgs' in 0.22. Specify a solver to silence this warning.\n",
      "  FutureWarning)\n",
      "C:\\Users\\shrey\\Anaconda3\\lib\\site-packages\\sklearn\\linear_model\\logistic.py:433: FutureWarning: Default solver will be changed to 'lbfgs' in 0.22. Specify a solver to silence this warning.\n",
      "  FutureWarning)\n",
      "C:\\Users\\shrey\\Anaconda3\\lib\\site-packages\\sklearn\\linear_model\\logistic.py:433: FutureWarning: Default solver will be changed to 'lbfgs' in 0.22. Specify a solver to silence this warning.\n",
      "  FutureWarning)\n",
      "C:\\Users\\shrey\\Anaconda3\\lib\\site-packages\\sklearn\\linear_model\\logistic.py:433: FutureWarning: Default solver will be changed to 'lbfgs' in 0.22. Specify a solver to silence this warning.\n",
      "  FutureWarning)\n",
      "C:\\Users\\shrey\\Anaconda3\\lib\\site-packages\\sklearn\\linear_model\\logistic.py:433: FutureWarning: Default solver will be changed to 'lbfgs' in 0.22. Specify a solver to silence this warning.\n",
      "  FutureWarning)\n",
      "C:\\Users\\shrey\\Anaconda3\\lib\\site-packages\\sklearn\\linear_model\\logistic.py:433: FutureWarning: Default solver will be changed to 'lbfgs' in 0.22. Specify a solver to silence this warning.\n",
      "  FutureWarning)\n",
      "C:\\Users\\shrey\\Anaconda3\\lib\\site-packages\\sklearn\\linear_model\\logistic.py:433: FutureWarning: Default solver will be changed to 'lbfgs' in 0.22. Specify a solver to silence this warning.\n",
      "  FutureWarning)\n",
      "C:\\Users\\shrey\\Anaconda3\\lib\\site-packages\\sklearn\\linear_model\\logistic.py:433: FutureWarning: Default solver will be changed to 'lbfgs' in 0.22. Specify a solver to silence this warning.\n",
      "  FutureWarning)\n",
      "C:\\Users\\shrey\\Anaconda3\\lib\\site-packages\\sklearn\\linear_model\\logistic.py:433: FutureWarning: Default solver will be changed to 'lbfgs' in 0.22. Specify a solver to silence this warning.\n",
      "  FutureWarning)\n",
      "C:\\Users\\shrey\\Anaconda3\\lib\\site-packages\\sklearn\\linear_model\\logistic.py:433: FutureWarning: Default solver will be changed to 'lbfgs' in 0.22. Specify a solver to silence this warning.\n",
      "  FutureWarning)\n",
      "C:\\Users\\shrey\\Anaconda3\\lib\\site-packages\\sklearn\\linear_model\\logistic.py:433: FutureWarning: Default solver will be changed to 'lbfgs' in 0.22. Specify a solver to silence this warning.\n",
      "  FutureWarning)\n",
      "C:\\Users\\shrey\\Anaconda3\\lib\\site-packages\\sklearn\\linear_model\\logistic.py:433: FutureWarning: Default solver will be changed to 'lbfgs' in 0.22. Specify a solver to silence this warning.\n",
      "  FutureWarning)\n",
      "C:\\Users\\shrey\\Anaconda3\\lib\\site-packages\\sklearn\\linear_model\\logistic.py:433: FutureWarning: Default solver will be changed to 'lbfgs' in 0.22. Specify a solver to silence this warning.\n",
      "  FutureWarning)\n",
      "C:\\Users\\shrey\\Anaconda3\\lib\\site-packages\\sklearn\\linear_model\\logistic.py:433: FutureWarning: Default solver will be changed to 'lbfgs' in 0.22. Specify a solver to silence this warning.\n",
      "  FutureWarning)\n",
      "C:\\Users\\shrey\\Anaconda3\\lib\\site-packages\\sklearn\\linear_model\\logistic.py:433: FutureWarning: Default solver will be changed to 'lbfgs' in 0.22. Specify a solver to silence this warning.\n",
      "  FutureWarning)\n",
      "C:\\Users\\shrey\\Anaconda3\\lib\\site-packages\\sklearn\\linear_model\\logistic.py:433: FutureWarning: Default solver will be changed to 'lbfgs' in 0.22. Specify a solver to silence this warning.\n",
      "  FutureWarning)\n",
      "C:\\Users\\shrey\\Anaconda3\\lib\\site-packages\\sklearn\\linear_model\\logistic.py:433: FutureWarning: Default solver will be changed to 'lbfgs' in 0.22. Specify a solver to silence this warning.\n",
      "  FutureWarning)\n",
      "C:\\Users\\shrey\\Anaconda3\\lib\\site-packages\\sklearn\\linear_model\\logistic.py:433: FutureWarning: Default solver will be changed to 'lbfgs' in 0.22. Specify a solver to silence this warning.\n",
      "  FutureWarning)\n",
      "C:\\Users\\shrey\\Anaconda3\\lib\\site-packages\\sklearn\\linear_model\\logistic.py:433: FutureWarning: Default solver will be changed to 'lbfgs' in 0.22. Specify a solver to silence this warning.\n",
      "  FutureWarning)\n",
      "C:\\Users\\shrey\\Anaconda3\\lib\\site-packages\\sklearn\\linear_model\\logistic.py:433: FutureWarning: Default solver will be changed to 'lbfgs' in 0.22. Specify a solver to silence this warning.\n",
      "  FutureWarning)\n",
      "C:\\Users\\shrey\\Anaconda3\\lib\\site-packages\\sklearn\\linear_model\\logistic.py:433: FutureWarning: Default solver will be changed to 'lbfgs' in 0.22. Specify a solver to silence this warning.\n",
      "  FutureWarning)\n",
      "C:\\Users\\shrey\\Anaconda3\\lib\\site-packages\\sklearn\\linear_model\\logistic.py:433: FutureWarning: Default solver will be changed to 'lbfgs' in 0.22. Specify a solver to silence this warning.\n",
      "  FutureWarning)\n",
      "C:\\Users\\shrey\\Anaconda3\\lib\\site-packages\\sklearn\\linear_model\\logistic.py:433: FutureWarning: Default solver will be changed to 'lbfgs' in 0.22. Specify a solver to silence this warning.\n",
      "  FutureWarning)\n",
      "C:\\Users\\shrey\\Anaconda3\\lib\\site-packages\\sklearn\\linear_model\\logistic.py:433: FutureWarning: Default solver will be changed to 'lbfgs' in 0.22. Specify a solver to silence this warning.\n",
      "  FutureWarning)\n",
      "C:\\Users\\shrey\\Anaconda3\\lib\\site-packages\\sklearn\\linear_model\\logistic.py:433: FutureWarning: Default solver will be changed to 'lbfgs' in 0.22. Specify a solver to silence this warning.\n",
      "  FutureWarning)\n",
      "C:\\Users\\shrey\\Anaconda3\\lib\\site-packages\\sklearn\\linear_model\\logistic.py:433: FutureWarning: Default solver will be changed to 'lbfgs' in 0.22. Specify a solver to silence this warning.\n",
      "  FutureWarning)\n",
      "C:\\Users\\shrey\\Anaconda3\\lib\\site-packages\\sklearn\\linear_model\\logistic.py:433: FutureWarning: Default solver will be changed to 'lbfgs' in 0.22. Specify a solver to silence this warning.\n",
      "  FutureWarning)\n",
      "C:\\Users\\shrey\\Anaconda3\\lib\\site-packages\\sklearn\\linear_model\\logistic.py:433: FutureWarning: Default solver will be changed to 'lbfgs' in 0.22. Specify a solver to silence this warning.\n",
      "  FutureWarning)\n",
      "C:\\Users\\shrey\\Anaconda3\\lib\\site-packages\\sklearn\\linear_model\\logistic.py:433: FutureWarning: Default solver will be changed to 'lbfgs' in 0.22. Specify a solver to silence this warning.\n",
      "  FutureWarning)\n",
      "C:\\Users\\shrey\\Anaconda3\\lib\\site-packages\\sklearn\\linear_model\\logistic.py:433: FutureWarning: Default solver will be changed to 'lbfgs' in 0.22. Specify a solver to silence this warning.\n",
      "  FutureWarning)\n",
      "C:\\Users\\shrey\\Anaconda3\\lib\\site-packages\\sklearn\\linear_model\\logistic.py:433: FutureWarning: Default solver will be changed to 'lbfgs' in 0.22. Specify a solver to silence this warning.\n",
      "  FutureWarning)\n",
      "C:\\Users\\shrey\\Anaconda3\\lib\\site-packages\\sklearn\\linear_model\\logistic.py:433: FutureWarning: Default solver will be changed to 'lbfgs' in 0.22. Specify a solver to silence this warning.\n",
      "  FutureWarning)\n",
      "C:\\Users\\shrey\\Anaconda3\\lib\\site-packages\\sklearn\\linear_model\\logistic.py:433: FutureWarning: Default solver will be changed to 'lbfgs' in 0.22. Specify a solver to silence this warning.\n",
      "  FutureWarning)\n",
      "C:\\Users\\shrey\\Anaconda3\\lib\\site-packages\\sklearn\\linear_model\\logistic.py:433: FutureWarning: Default solver will be changed to 'lbfgs' in 0.22. Specify a solver to silence this warning.\n",
      "  FutureWarning)\n",
      "C:\\Users\\shrey\\Anaconda3\\lib\\site-packages\\sklearn\\linear_model\\logistic.py:433: FutureWarning: Default solver will be changed to 'lbfgs' in 0.22. Specify a solver to silence this warning.\n",
      "  FutureWarning)\n"
     ]
    },
    {
     "name": "stdout",
     "output_type": "stream",
     "text": [
      "[[ 957    0    2    1    0    6    8    1    3    2]\n",
      " [   0 1118    4    2    0    2    3    0    6    0]\n",
      " [   6    0  985   11    3    1    3    6   17    0]\n",
      " [   1    1    4  974    1   12    0    5    9    3]\n",
      " [   2    0    3    2  947    0    6    1    5   16]\n",
      " [   4    0    0   12    3  856    8    1    6    2]\n",
      " [   6    3    4    1    5   10  926    1    1    1]\n",
      " [   1    2   13    0    1    0    0  994    2   15]\n",
      " [   4    0    7   10    4   12    4    2  926    5]\n",
      " [   0    4    1    7   18    5    1   19    4  950]]\n",
      "Accuracy: 0.9638\n",
      "Error Rate: 0.03620000000000001\n",
      "Time: 604.2053864002228 seconds\n"
     ]
    }
   ],
   "source": [
    "final_error_rate2 =[]\n",
    "\n",
    "from sklearn.linear_model import LogisticRegression\n",
    "from sklearn.multiclass import OneVsOneClassifier\n",
    "from sklearn.metrics import confusion_matrix\n",
    "from sklearn.metrics import accuracy_score\n",
    "import numpy as np\n",
    "import time \n",
    "start_time = time.time()\n",
    "\n",
    "\n",
    "\n",
    "tdata = np.genfromtxt(\"mnist_test.txt\", delimiter=',')\n",
    "test_exp3 = tdata[:,0]\n",
    "\n",
    "cl_type3=OneVsOneClassifier(LogisticRegression()).fit(reduced_data,label)\n",
    "\n",
    "\n",
    "\n",
    "res3=cl_type3.predict(reduced_test_data)\n",
    "\n",
    "acc_type3=accuracy_score(test_exp3,res1)\n",
    "err_type3=1-acc_type1\n",
    "final_error_rate2.append(err_type3)\n",
    "mat_c3 =confusion_matrix(test_exp3,res3)\n",
    "\n",
    "print(mat_c3)\n",
    "\n",
    "print(\"Accuracy:\",acc_type3)\n",
    "print(\"Error Rate:\",err_type3)\n",
    "print(\"Time: %s seconds\" %(time.time()-start_time))\n",
    "\n"
   ]
  },
  {
   "cell_type": "code",
   "execution_count": 9,
   "metadata": {},
   "outputs": [
    {
     "name": "stderr",
     "output_type": "stream",
     "text": [
      "C:\\Users\\shrey\\Anaconda3\\lib\\site-packages\\sklearn\\linear_model\\logistic.py:433: FutureWarning: Default solver will be changed to 'lbfgs' in 0.22. Specify a solver to silence this warning.\n",
      "  FutureWarning)\n"
     ]
    },
    {
     "name": "stdout",
     "output_type": "stream",
     "text": [
      "[[ 960    1    1    0    0    5    6    2    3    2]\n",
      " [   0 1114    2    2    0    1    4    1   11    0]\n",
      " [   5    3  950   13    9    3    4    6   38    1]\n",
      " [   1    1    8  962    1   13    0    6   12    6]\n",
      " [   1    0    8    2  930    2    7    3    8   21]\n",
      " [  13    2    1    8    8  835    8    2   11    4]\n",
      " [   8    3    8    2    8   16  909    0    3    1]\n",
      " [   2    4   15    1    3    1    0  978    3   21]\n",
      " [   4    1   10    8    5   15    7    4  909   11]\n",
      " [  10    5    2   13   31    2    1   23    9  913]]\n",
      "accuracy: 0.946\n",
      "error rate: 0.05400000000000005\n",
      "time: 39.46908760070801 seconds\n"
     ]
    }
   ],
   "source": [
    "from sklearn.linear_model import LogisticRegression\n",
    "from sklearn.metrics import confusion_matrix\n",
    "from sklearn.metrics import accuracy_score\n",
    "import numpy as np\n",
    "import time \n",
    "start_time = time.time()\n",
    "\n",
    "\n",
    "tdata = np.genfromtxt(\"mnist_test.txt\", delimiter=',')\n",
    "test_exp4 = tdata[:,0]\n",
    "\n",
    "cl_type4=LogisticRegression(penalty='l1',multi_class='ovr').fit(reduced_data,label)\n",
    "\n",
    "\n",
    "\n",
    "res4=cl_type4.predict(reduced_test_data)\n",
    "\n",
    "acc_type4=accuracy_score(test_exp4,res4)\n",
    "err_type4=1-acc_type4\n",
    "final_error_rate2.append(err_type4)\n",
    "\n",
    "\n",
    "\n",
    "mat_c4 =confusion_matrix(test_exp4,res4)\n",
    "\n",
    "print(mat_c4)\n",
    "\n",
    "print(\"accuracy:\",acc_type4)\n",
    "print(\"error rate:\",err_type4)\n",
    "print(\"time: %s seconds\" %(time.time()-start_time))"
   ]
  },
  {
   "cell_type": "code",
   "execution_count": 10,
   "metadata": {},
   "outputs": [
    {
     "data": {
      "image/png": "[encoded data removed]",
      "text/plain": [
       "<Figure size 432x288 with 1 Axes>"
      ]
     },
     "metadata": {
      "needs_background": "light"
     },
     "output_type": "display_data"
    }
   ],
   "source": [
    "import matplotlib.pyplot as plt\n",
    "#import matplotlib.pyplot.hist\n",
    "x=np.arange(2)\n",
    "plt.bar(x,height=final_error_rate2)\n",
    "plt.xticks(x,['one vs one','one vs rest'])\n",
    "plt.show()"
   ]
  },
  {
   "cell_type": "code",
   "execution_count": 11,
   "metadata": {},
   "outputs": [
    {
     "data": {
      "image/png": "[encoded data removed]",
      "text/plain": [
       "<Figure size 432x288 with 1 Axes>"
      ]
     },
     "metadata": {
      "needs_background": "light"
     },
     "output_type": "display_data"
    }
   ],
   "source": [
    "import matplotlib.pyplot as plt\n",
    "#import matplotlib.pyplot.hist\n",
    "x=np.arange(2)\n",
    "plt.bar(x,height=final_error_rate)\n",
    "plt.bar(x+0.2,height=final_error_rate2)\n",
    "plt.xticks(x,['one vs one','one vs rest'])\n",
    "plt.show()"
   ]
  },
  {
   "cell_type": "code",
   "execution_count": null,
   "metadata": {},
   "outputs": [],
   "source": []
  },
  {
   "cell_type": "code",
   "execution_count": null,
   "metadata": {},
   "outputs": [],
   "source": []
  }
 ],
 "metadata": {
  "kernelspec": {
   "display_name": "Python 3",
   "language": "python",
   "name": "python3"
  },
  "language_info": {
   "codemirror_mode": {
    "name": "ipython",
    "version": 3
   },
   "file_extension": ".py",
   "mimetype": "text/x-python",
   "name": "python",
   "nbconvert_exporter": "python",
   "pygments_lexer": "ipython3",
   "version": "3.7.1"
  }
 },
 "nbformat": 4,
 "nbformat_minor": 2
}
